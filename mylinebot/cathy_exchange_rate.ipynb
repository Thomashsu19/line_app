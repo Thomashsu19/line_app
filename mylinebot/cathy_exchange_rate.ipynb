{
 "cells": [
  {
   "cell_type": "code",
   "execution_count": 103,
   "id": "03979f25",
   "metadata": {},
   "outputs": [
    {
     "name": "stdout",
     "output_type": "stream",
     "text": [
      "美元USD\n",
      "數位通路優惠匯率: 30.5000\n",
      "\n",
      "歐元EUR\n",
      "數位通路優惠匯率: 32.4500\n",
      "\n",
      "日圓JPY\n",
      "數位通路優惠匯率: 0.2275\n",
      "\n",
      "\n"
     ]
    }
   ],
   "source": [
    "import requests\n",
    "from bs4 import BeautifulSoup\n",
    "\n",
    "url = 'https://www.cathaybk.com.tw/cathaybk/personal/product/deposit/currency-billboard/#currency'\n",
    "web = requests.get(url)\n",
    "soup = BeautifulSoup(web.text, \"html.parser\")\n",
    "country = soup.find_all('div', class_='cubre-m-currency__name')     # 取得所有 class 為 reservoir 的 tag\n",
    "\n",
    "rates = []\n",
    "for i in range(len(country)-1):\n",
    "    rate = soup.find_all('tbody')[i].find_all('tr')[1].find_all('td')[2]\n",
    "    rate = rate.find_next().get_text()\n",
    "    rates.append(rate)\n",
    "\n",
    "msg = str()\n",
    "for i in range(3):\n",
    "    msg += country[i].get_text().lstrip().strip()\n",
    "    msg += ('\\n')\n",
    "    msg += \"數位通路優惠匯率: \"\n",
    "    msg += rates[i].lstrip()\n",
    "    msg += ('\\n\\n')\n",
    "print(msg)\n",
    "  "
   ]
  },
  {
   "cell_type": "code",
   "execution_count": null,
   "id": "26c5f343",
   "metadata": {},
   "outputs": [],
   "source": []
  },
  {
   "cell_type": "code",
   "execution_count": null,
   "id": "12487e58",
   "metadata": {},
   "outputs": [],
   "source": []
  }
 ],
 "metadata": {
  "kernelspec": {
   "display_name": "Python 3 (ipykernel)",
   "language": "python",
   "name": "python3"
  },
  "language_info": {
   "codemirror_mode": {
    "name": "ipython",
    "version": 3
   },
   "file_extension": ".py",
   "mimetype": "text/x-python",
   "name": "python",
   "nbconvert_exporter": "python",
   "pygments_lexer": "ipython3",
   "version": "3.9.13"
  }
 },
 "nbformat": 4,
 "nbformat_minor": 5
}
